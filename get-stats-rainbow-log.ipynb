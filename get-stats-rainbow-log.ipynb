{
 "cells": [
  {
   "cell_type": "markdown",
   "metadata": {},
   "source": [
    "# The goal is to create a csv file in which the main Rainbow calls quality indicators appear\n",
    "\n",
    "#### 1 - First, we let the user type his Rainbow log file pathname :"
   ]
  },
  {
   "cell_type": "code",
   "execution_count": 10,
   "metadata": {
    "tags": [
     "csv",
     "ast",
     "re"
    ]
   },
   "outputs": [],
   "source": [
    "import re, ast, csv, sys\n",
    "\n",
    "if len(sys.argv) > 1 :\n",
    "    logname = str(sys.argv[1])\n",
    "else: \n",
    "    sys.exit(-1)"
   ]
  },
  {
   "cell_type": "markdown",
   "metadata": {},
   "source": [
    "Note : we exit the program if any Rainbow log file pathname is typed."
   ]
  },
  {
   "cell_type": "markdown",
   "metadata": {},
   "source": [
    "#### 2 - Then we define RegExp that will let us find the 3 quality indicator fields :"
   ]
  },
  {
   "cell_type": "code",
   "execution_count": 11,
   "metadata": {},
   "outputs": [],
   "source": [
    "mos = \"MOS\"\n",
    "jitter = \"Jitter\"\n",
    "\n",
    "pattern_mean_mos = '\"meanMOS\":[0-5].[0-9]{0,15}'\n",
    "pattern_jitter = '\"googJitterBufferMsAudio\":[0-9]{0,3}'\n",
    "pattern_mos_packets_lost_audio = '\"mosPacketsLostAudio\":[0-9]{0,20}'"
   ]
  },
  {
   "cell_type": "markdown",
   "metadata": {},
   "source": [
    "#### 3 - We declare the lists that will contain the 3 quality indicator fields' values :"
   ]
  },
  {
   "cell_type": "code",
   "execution_count": 12,
   "metadata": {},
   "outputs": [],
   "source": [
    "result_mean_mos = []\n",
    "result_jitter = []\n",
    "result_mos_packets_lost_audio = []"
   ]
  },
  {
   "cell_type": "markdown",
   "metadata": {},
   "source": [
    "#### 4 - We give a name to our futur csv file and to its columns :"
   ]
  },
  {
   "cell_type": "code",
   "execution_count": 13,
   "metadata": {},
   "outputs": [],
   "source": [
    "csv_columns = ['meanMOS','googJitterBufferMsAudio','mosPacketsLostAudio']\n",
    "csv_file = \"stats.csv\"\n",
    "stats_list = []"
   ]
  },
  {
   "cell_type": "markdown",
   "metadata": {},
   "source": [
    "#### 5 - We create a function that creates a csv file containing the stats dictionnary :"
   ]
  },
  {
   "cell_type": "code",
   "execution_count": 14,
   "metadata": {},
   "outputs": [],
   "source": [
    "def create_csv_file(csv_file, csv_columns, dict_data):\n",
    "    try:\n",
    "        with open(csv_file, 'w') as csvfile:\n",
    "            writer = csv.DictWriter(csvfile, fieldnames=csv_columns)\n",
    "            writer.writeheader()\n",
    "            for data in dict_data:\n",
    "                writer.writerow(data)\n",
    "    except IOError:\n",
    "        print(\"I/O error\")"
   ]
  },
  {
   "cell_type": "markdown",
   "metadata": {},
   "source": [
    "#### 6 - We create a function that creates a list containing the quality indicator values :"
   ]
  },
  {
   "cell_type": "code",
   "execution_count": 17,
   "metadata": {},
   "outputs": [],
   "source": [
    "def create_stats_values_list(occ):\n",
    "    result = []\n",
    "    for res in occ:\n",
    "        line = res.replace(':', ',')\n",
    "        res = ast.literal_eval(line)\n",
    "        result.append(res[1])\n",
    "    return result"
   ]
  },
  {
   "cell_type": "markdown",
   "metadata": {},
   "source": [
    "#### 7 - Finally, we open the Rainbow log file and generate a csv file with its quality indicator values :"
   ]
  },
  {
   "cell_type": "code",
   "execution_count": 16,
   "metadata": {},
   "outputs": [
    {
     "ename": "FileNotFoundError",
     "evalue": "[Errno 2] No such file or directory: '-f'",
     "output_type": "error",
     "traceback": [
      "\u001b[0;31m---------------------------------------------------------------------------\u001b[0m",
      "\u001b[0;31mFileNotFoundError\u001b[0m                         Traceback (most recent call last)",
      "\u001b[0;32m<ipython-input-16-a20d0b2040ec>\u001b[0m in \u001b[0;36m<module>\u001b[0;34m\u001b[0m\n\u001b[1;32m      1\u001b[0m \u001b[0;32mif\u001b[0m \u001b[0m__name__\u001b[0m \u001b[0;34m==\u001b[0m \u001b[0;34m'__main__'\u001b[0m\u001b[0;34m:\u001b[0m\u001b[0;34m\u001b[0m\u001b[0;34m\u001b[0m\u001b[0m\n\u001b[1;32m      2\u001b[0m     \u001b[0;31m# Open the log file\u001b[0m\u001b[0;34m\u001b[0m\u001b[0;34m\u001b[0m\u001b[0;34m\u001b[0m\u001b[0m\n\u001b[0;32m----> 3\u001b[0;31m     \u001b[0;32mwith\u001b[0m \u001b[0mopen\u001b[0m\u001b[0;34m(\u001b[0m\u001b[0mlogname\u001b[0m\u001b[0;34m,\u001b[0m \u001b[0;34m\"rt\"\u001b[0m\u001b[0;34m)\u001b[0m \u001b[0;32mas\u001b[0m \u001b[0mf\u001b[0m\u001b[0;34m:\u001b[0m\u001b[0;34m\u001b[0m\u001b[0;34m\u001b[0m\u001b[0m\n\u001b[0m\u001b[1;32m      4\u001b[0m         \u001b[0mcontent\u001b[0m \u001b[0;34m=\u001b[0m \u001b[0mf\u001b[0m\u001b[0;34m.\u001b[0m\u001b[0mread\u001b[0m\u001b[0;34m(\u001b[0m\u001b[0;34m)\u001b[0m\u001b[0;34m\u001b[0m\u001b[0;34m\u001b[0m\u001b[0m\n\u001b[1;32m      5\u001b[0m         \u001b[0;32mif\u001b[0m \u001b[0;34m(\u001b[0m\u001b[0mmos\u001b[0m \u001b[0;32min\u001b[0m \u001b[0mcontent\u001b[0m\u001b[0;34m)\u001b[0m \u001b[0;32mand\u001b[0m \u001b[0;34m(\u001b[0m\u001b[0mjitter\u001b[0m \u001b[0;32min\u001b[0m \u001b[0mcontent\u001b[0m\u001b[0;34m)\u001b[0m\u001b[0;34m:\u001b[0m\u001b[0;34m\u001b[0m\u001b[0;34m\u001b[0m\u001b[0m\n",
      "\u001b[0;31mFileNotFoundError\u001b[0m: [Errno 2] No such file or directory: '-f'"
     ]
    }
   ],
   "source": [
    "if __name__ == '__main__':        \n",
    "    # Open the log file\n",
    "    with open(logname, \"rt\") as f:\n",
    "        content = f.read()\n",
    "        if (mos in content) and (jitter in content):\n",
    "            print(\"mos and jitter in content\")\n",
    "            mean_mos_occ = re.findall(pattern_mean_mos, content)\n",
    "            jitter_occ = re.findall(pattern_jitter, content)\n",
    "            mos_packets_lost_audio_occ = re.findall(pattern_mos_packets_lost_audio, content)\n",
    "\n",
    "            # Create a list which contains the meanMos values\n",
    "            result_mean_mos = create_stats_values_list(mean_mos_occ)\n",
    "\n",
    "            # Create a list which contains the jitter values\n",
    "            result_jitter = create_stats_values_list(jitter_occ)\n",
    "\n",
    "            # Create a list which contains the mosPacketsLostAudio values\n",
    "            result_mos_packets_lost_audio = create_stats_values_list(mos_packets_lost_audio_occ)\n",
    "\n",
    "            # Create a dictionnary list which contains both lists\n",
    "            for i in range(len(result_mean_mos)):\n",
    "                new_tuple = []\n",
    "                single_tuple = (\"meanMOS\", result_mean_mos[i])\n",
    "                new_tuple.append(single_tuple)\n",
    "                single_tuple = (\"googJitterBufferMsAudio\", result_jitter[i])\n",
    "                new_tuple.append(single_tuple)\n",
    "                single_tuple = (\"mosPacketsLostAudio\", result_mos_packets_lost_audio[i])\n",
    "                new_tuple.append(single_tuple)\n",
    "                new_tuple = dict(new_tuple)\n",
    "                stats_list.append(new_tuple)\n",
    "\n",
    "            # Create a csv file which contains stats dictionnary\n",
    "            create_csv_file(csv_file, csv_columns, stats_list)\n",
    "        else:\n",
    "            print(\"mos is not in content\")\n",
    "        f.close()"
   ]
  }
 ],
 "metadata": {
  "kernelspec": {
   "display_name": "Python 3",
   "language": "python",
   "name": "python3"
  },
  "language_info": {
   "codemirror_mode": {
    "name": "ipython",
    "version": 3
   },
   "file_extension": ".py",
   "mimetype": "text/x-python",
   "name": "python",
   "nbconvert_exporter": "python",
   "pygments_lexer": "ipython3",
   "version": "3.9.1"
  },
  "toc-showmarkdowntxt": false
 },
 "nbformat": 4,
 "nbformat_minor": 4
}
