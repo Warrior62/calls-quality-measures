{
 "cells": [
  {
   "cell_type": "code",
   "execution_count": 13,
   "id": "0ef50af4-b819-462c-85a4-16a16872fd39",
   "metadata": {},
   "outputs": [],
   "source": [
    "#%run download_log.py \"*\" \"*\""
   ]
  },
  {
   "cell_type": "code",
   "execution_count": 15,
   "id": "7ec62d11-a81e-436c-a21c-92f020ba7357",
   "metadata": {},
   "outputs": [
    {
     "name": "stdout",
     "output_type": "stream",
     "text": [
      "C:\\Users\\10150573\\Downloads\\Rainbow-06-05-2021--11-26-48.log\n",
      "mos and jitter in content\n",
      "Creation of a csv file in progress...\n",
      "                 timestamp   meanMOS  googJitterBufferMsAudio  \\\n",
      "0  2021-05-06T11:26:15.480  4.273363                       35   \n",
      "1  2021-05-06T11:26:18.481  4.273363                       35   \n",
      "2  2021-05-06T11:26:21.478  4.276273                       45   \n",
      "3  2021-05-06T11:26:24.480  4.277227                       65   \n",
      "4  2021-05-06T11:26:27.477  4.277666                       45   \n",
      "5  2021-05-06T11:26:30.480  4.277061                       35   \n",
      "6  2021-05-06T11:26:33.477  4.277685                       45   \n",
      "\n",
      "   packetsAudioLoss (in %)  \n",
      "0                    19.86  \n",
      "1                    10.54  \n",
      "2                     6.98  \n",
      "3                     5.53  \n",
      "4                     4.55  \n",
      "5                     4.11  \n",
      "6                     3.80  \n",
      "--> END OF PROGRAM...\n"
     ]
    }
   ],
   "source": [
    "%run get_quality_values_rainbow_log.py"
   ]
  },
  {
   "cell_type": "code",
   "execution_count": null,
   "id": "68a9c2c3-65e5-42af-9bfa-dcac463f5858",
   "metadata": {},
   "outputs": [],
   "source": []
  }
 ],
 "metadata": {
  "kernelspec": {
   "display_name": "Python 3",
   "language": "python",
   "name": "python3"
  },
  "language_info": {
   "codemirror_mode": {
    "name": "ipython",
    "version": 3
   },
   "file_extension": ".py",
   "mimetype": "text/x-python",
   "name": "python",
   "nbconvert_exporter": "python",
   "pygments_lexer": "ipython3",
   "version": "3.9.4"
  }
 },
 "nbformat": 4,
 "nbformat_minor": 5
}
